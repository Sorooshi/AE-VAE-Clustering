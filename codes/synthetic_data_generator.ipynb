{
 "cells": [
  {
   "cell_type": "code",
   "execution_count": 1,
   "metadata": {},
   "outputs": [],
   "source": [
    "import os\n",
    "import pickle\n",
    "import random\n",
    "import itertools\n",
    "import numpy as np\n",
    "from sklearn import metrics\n",
    "from collections import OrderedDict\n",
    "from sklearn.decomposition import PCA\n",
    "import synthetic_data_generator as sdg\n",
    "from sklearn.preprocessing import OneHotEncoder\n",
    "from sklearn.model_selection import train_test_split\n",
    "np.set_printoptions(suppress=True, linewidth=120, precision=2)"
   ]
  },
  {
   "cell_type": "code",
   "execution_count": 2,
   "metadata": {},
   "outputs": [
    {
     "name": "stdout",
     "output_type": "stream",
     "text": [
      "pr_v\n",
      "(0.3,)\n",
      "(0.6,)\n",
      "(0.9,)\n"
     ]
    }
   ],
   "source": [
    "NUM_Repeats = 5\n",
    "size = (10000, 100, 2) \n",
    "N, V, K = size[0], size[1], size[2]\n",
    "\n",
    "pr_v   = set([0.3, 0.6, 0.9])  # \\epsilon OR \\alpha in the paper \n",
    "cardinalities = [9500, 500]\n",
    "settings_quant = list(itertools.product(pr_v))\n",
    "print(\"pr_v\")\n",
    "for l in settings_quant:\n",
    "    print(l)\n"
   ]
  },
  {
   "cell_type": "code",
   "execution_count": 4,
   "metadata": {},
   "outputs": [],
   "source": [
    "name = 'B'\n",
    "data = {}  \n",
    "\n",
    "repeats = list(range(NUM_Repeats))\n",
    "\n",
    "features_type = 'Q'\n",
    "\n",
    "for setting in settings_quant:\n",
    "    data[setting] = {}\n",
    "    for repeat in repeats:\n",
    "                \n",
    "        data[setting][repeat] = {}\n",
    "        \n",
    "        Y, Yn = sdg.generate_Y(N=N, V=V, K=K, pr_v=setting[-1],\n",
    "                               cardinality=cardinalities, \n",
    "                               features_type=features_type,\n",
    "                               V_noise1= int(np.floor(V/2))\n",
    "                              )\n",
    "\n",
    "        Xg = Y[:cardinalities[0], :]\n",
    "        Xb = Y[cardinalities[0]:, :]\n",
    "        Lg = np.repeat(int(1), Xg.shape[0])  # Labels Good\n",
    "        Lb = np.repeat(int(0), Xb.shape[0])  # Labels Bad \n",
    "        \n",
    "        Xg_train, Xg_test, Lg_train, Lg_test = train_test_split(Xg, Lg,\n",
    "                                                                test_size=0.02, \n",
    "                                                                shuffle=True)\n",
    "\n",
    "        Xg_test, Xg_val, Lg_test, Lg_val = train_test_split(Xg_test, Lg_test,\n",
    "                                                            test_size=0.5, \n",
    "                                                            shuffle=True)\n",
    "\n",
    "        Xb_train, Xb_test, Lb_train, Lb_test = train_test_split(Xb, Lb,\n",
    "                                                                test_size=0.02, \n",
    "                                                                shuffle=True)\n",
    "\n",
    "        Xb_test, Xb_val, Lb_test, Lb_val = train_test_split(Xb_test, Lb_test,\n",
    "                                                            test_size=0.5, \n",
    "                                                            shuffle=True)\n",
    "\n",
    "        X_train = np.concatenate((Xg_train, Xb_train), axis=0)\n",
    "        X_val = np.concatenate((Xg_val, Xb_val), axis=0)\n",
    "        X_test = np.concatenate((Xg_test, Xb_test), axis=0)\n",
    "\n",
    "\n",
    "        L_train = np.concatenate((Lg_train, Lb_train), axis=0)\n",
    "        L_val = np.concatenate((Lg_val, Lb_val), axis=0)\n",
    "        L_test = np.concatenate((Lg_test, Lb_test), axis=0)\n",
    "\n",
    "\n",
    "        data[setting][repeat]['X_tr'] = X_train\n",
    "        data[setting][repeat]['X_vl'] = X_val\n",
    "        data[setting][repeat]['X_ts'] = X_test\n",
    "        data[setting][repeat]['y_tr'] = L_train\n",
    "        data[setting][repeat]['y_vl'] = L_val\n",
    "        data[setting][repeat]['y_ts'] = L_test\n",
    "\n",
    "\n",
    "        \n",
    "with open (os.path.join('matrices/', name+features_type+str(size)+'.pickle'), 'wb') as fp:\n",
    "    pickle.dump(data, fp)"
   ]
  },
  {
   "cell_type": "code",
   "execution_count": 14,
   "metadata": {},
   "outputs": [
    {
     "data": {
      "text/plain": [
       "dict_keys([(0.3,), (0.6,), (0.9,)])"
      ]
     },
     "execution_count": 14,
     "metadata": {},
     "output_type": "execute_result"
    }
   ],
   "source": [
    "data.keys()"
   ]
  },
  {
   "cell_type": "code",
   "execution_count": 13,
   "metadata": {},
   "outputs": [
    {
     "name": "stdout",
     "output_type": "stream",
     "text": [
      "(0.3,)\n",
      "0 (9800, 100) (100, 100) (100, 100)\n",
      "0 (9800,) (100,) (100,)\n",
      "1 (9800, 100) (100, 100) (100, 100)\n",
      "1 (9800,) (100,) (100,)\n",
      "2 (9800, 100) (100, 100) (100, 100)\n",
      "2 (9800,) (100,) (100,)\n",
      "3 (9800, 100) (100, 100) (100, 100)\n",
      "3 (9800,) (100,) (100,)\n",
      "4 (9800, 100) (100, 100) (100, 100)\n",
      "4 (9800,) (100,) (100,)\n",
      "(0.6,)\n",
      "0 (9800, 100) (100, 100) (100, 100)\n",
      "0 (9800,) (100,) (100,)\n",
      "1 (9800, 100) (100, 100) (100, 100)\n",
      "1 (9800,) (100,) (100,)\n",
      "2 (9800, 100) (100, 100) (100, 100)\n",
      "2 (9800,) (100,) (100,)\n",
      "3 (9800, 100) (100, 100) (100, 100)\n",
      "3 (9800,) (100,) (100,)\n",
      "4 (9800, 100) (100, 100) (100, 100)\n",
      "4 (9800,) (100,) (100,)\n",
      "(0.9,)\n",
      "0 (9800, 100) (100, 100) (100, 100)\n",
      "0 (9800,) (100,) (100,)\n",
      "1 (9800, 100) (100, 100) (100, 100)\n",
      "1 (9800,) (100,) (100,)\n",
      "2 (9800, 100) (100, 100) (100, 100)\n",
      "2 (9800,) (100,) (100,)\n",
      "3 (9800, 100) (100, 100) (100, 100)\n",
      "3 (9800,) (100,) (100,)\n",
      "4 (9800, 100) (100, 100) (100, 100)\n",
      "4 (9800,) (100,) (100,)\n"
     ]
    }
   ],
   "source": [
    "for k, v in data.items():\n",
    "    print(k)\n",
    "    for kk, vv in v.items():\n",
    "        print(kk, vv['X_tr'].shape,  vv['X_ts'].shape,  vv['X_vl'].shape)\n",
    "        print(kk, vv['y_tr'].shape,  vv['y_ts'].shape,  vv['y_vl'].shape)"
   ]
  },
  {
   "cell_type": "code",
   "execution_count": null,
   "metadata": {},
   "outputs": [],
   "source": []
  }
 ],
 "metadata": {
  "kernelspec": {
   "display_name": "Python 3",
   "language": "python",
   "name": "python3"
  },
  "language_info": {
   "codemirror_mode": {
    "name": "ipython",
    "version": 3
   },
   "file_extension": ".py",
   "mimetype": "text/x-python",
   "name": "python",
   "nbconvert_exporter": "python",
   "pygments_lexer": "ipython3",
   "version": "3.7.3"
  }
 },
 "nbformat": 4,
 "nbformat_minor": 2
}
